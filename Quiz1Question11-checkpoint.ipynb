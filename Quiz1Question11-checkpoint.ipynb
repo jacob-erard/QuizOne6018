{
 "cells": [
  {
   "cell_type": "code",
   "execution_count": 9,
   "id": "71fde857-7305-4392-b52a-b5ec353eaf7a",
   "metadata": {},
   "outputs": [
    {
     "name": "stdout",
     "output_type": "stream",
     "text": [
      "2\n",
      "1\n",
      " \n",
      "Not Allowed\n",
      "I Bove python\n",
      "73\n",
      "6\n",
      "33\n"
     ]
    }
   ],
   "source": [
    "#Booleans\n",
    "#boolean True + boolean True - boolean False = ?\n",
    "print(True + True - False)\n",
    "\n",
    "# logical tracker = True\n",
    "# logical tracker = logical tracker & logical tracker\n",
    "# logical tracker = logical tracker | (logical tracker - logical tracker)\n",
    "# logical tracker  = ?\n",
    "logicalTracker = True\n",
    "logicalTracker = logicalTracker & logicalTracker\n",
    "logicalTracker = logicalTracker | (logicalTracker - logicalTracker)\n",
    "print(logicalTracker)\n",
    "\n",
    "#Strings\n",
    "\n",
    "# string = \"E. Coli\"\n",
    "# string[2]=\n",
    "string = \"E. Coli\"\n",
    "print(string[2])\n",
    "\n",
    "# Oh no! My string has a typo!\n",
    "# string = \"I Bove python\"\n",
    "# No worries though. I'll just fix that.\n",
    "# string[2]=\"L\"\n",
    "\n",
    "string = \"I Bove python\"\n",
    "try:\n",
    "    string[2]=\"L\"\n",
    "except TypeError as e:\n",
    "    print(\"Not Allowed\")\n",
    "print(string)\n",
    "\n",
    "#Type the output if the strings \"7\" and \"3\" are added.\n",
    "print(\"7\" + \"3\")\n",
    "\n",
    "#Operators\n",
    "#This code performs integer addition\n",
    "print(3 + 3)\n",
    "#This code performs String concatenation\n",
    "print(\"3\" + \"3\")"
   ]
  },
  {
   "cell_type": "code",
   "execution_count": null,
   "id": "38177988-6b45-48ef-91ae-721efdd59e8a",
   "metadata": {},
   "outputs": [],
   "source": []
  },
  {
   "cell_type": "code",
   "execution_count": null,
   "id": "5f0073f3-920c-4c55-bd90-c6cd392e67c7",
   "metadata": {},
   "outputs": [],
   "source": []
  }
 ],
 "metadata": {
  "kernelspec": {
   "display_name": "Python 3 (ipykernel)",
   "language": "python",
   "name": "python3"
  },
  "language_info": {
   "codemirror_mode": {
    "name": "ipython",
    "version": 3
   },
   "file_extension": ".py",
   "mimetype": "text/x-python",
   "name": "python",
   "nbconvert_exporter": "python",
   "pygments_lexer": "ipython3",
   "version": "3.12.5"
  }
 },
 "nbformat": 4,
 "nbformat_minor": 5
}
